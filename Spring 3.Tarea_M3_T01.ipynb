{
 "cells": [
  {
   "cell_type": "markdown",
   "id": "3bc73275",
   "metadata": {},
   "source": [
    "# Spring 3: Tarea M3 T01"
   ]
  },
  {
   "cell_type": "markdown",
   "id": "cafde0cc",
   "metadata": {},
   "source": [
    "**Ejercicios de programación numérica.**"
   ]
  },
  {
   "cell_type": "code",
   "execution_count": 2,
   "id": "0bdf5f9a",
   "metadata": {},
   "outputs": [],
   "source": [
    "import numpy as np\n",
    "from numpy import random"
   ]
  },
  {
   "cell_type": "markdown",
   "id": "ab14dfc1",
   "metadata": {},
   "source": [
    "## Ejercicio 1"
   ]
  },
  {
   "cell_type": "markdown",
   "id": "5f444cd6",
   "metadata": {},
   "source": [
    "Crea una función que dado un Array de una dimensión, te haga un resumen estadístico básico de los datos. Si detecta que el array tiene más de una dimensión, debe mostrar un mensaje de error."
   ]
  },
  {
   "cell_type": "code",
   "execution_count": 68,
   "id": "ea5b33fe",
   "metadata": {},
   "outputs": [],
   "source": [
    "def statis_eval(v):\n",
    "    if v.ndim > 1:\n",
    "        print(\"Error. El array es de una dimensión\")\n",
    "    else:       \n",
    "        print(f\"El valor de la media es {v.mean()}\")\n",
    "        print(f\"El valor de la mediana es {np.median(v)}\")\n",
    "        print(f\"El valor de la desviación estandar {np.std(v)}\")\n",
    "        print(f\"El valor de la varianza es {v.var()}\")\n",
    "        print(f\"El valor máximo es {v.max()}\")\n",
    "        print(f\"El valor mínimo es {v.min()}\")\n",
    "        print(f\"El primer cuartil es {np.percentile(v, 25)}\")\n",
    "        print(f\"El segundo cuartil es {np.percentile(v, 50)}\")\n",
    "        print(f\"El tercer cuartil es {np.percentile(v, 75)}\")"
   ]
  },
  {
   "cell_type": "code",
   "execution_count": 69,
   "id": "b95e8ba7",
   "metadata": {},
   "outputs": [
    {
     "name": "stdout",
     "output_type": "stream",
     "text": [
      "El valor de la media es 23.076923076923077\n",
      "El valor de la mediana es 7.0\n",
      "El valor de la desviación estandar 28.097252913795238\n",
      "El valor de la varianza es 789.4556213017751\n",
      "El valor máximo es 87\n",
      "El valor mínimo es 2\n",
      "El primer cuartil es 5.0\n",
      "El segundo cuartil es 7.0\n",
      "El tercer cuartil es 35.0\n"
     ]
    }
   ],
   "source": [
    "v = np.array([6,4,5,6,14,43,2,35,78,9,4,7,87])\n",
    "\n",
    "statis_eval(v)"
   ]
  },
  {
   "cell_type": "markdown",
   "id": "605d57c6",
   "metadata": {},
   "source": [
    "## Ejercicio 2"
   ]
  },
  {
   "cell_type": "markdown",
   "id": "9e75ed42",
   "metadata": {},
   "source": [
    "Crea una función que genere un cuadrado NxN de números aleatorios entre el 0 y el 100."
   ]
  },
  {
   "cell_type": "code",
   "execution_count": 5,
   "id": "c84d5fda",
   "metadata": {},
   "outputs": [],
   "source": [
    "def matriz_cuadrada(x):\n",
    "    z = random.randint(101, size=(x, x))\n",
    "    print (z)    "
   ]
  },
  {
   "cell_type": "code",
   "execution_count": 6,
   "id": "7e4ee1c5",
   "metadata": {},
   "outputs": [
    {
     "name": "stdout",
     "output_type": "stream",
     "text": [
      "Introduce el número para crear una matriz cuadrada, por favor: \n",
      "4\n",
      "La matriz cuadrada del número indicado es:\n",
      "[[11 70 76 57]\n",
      " [47 55 87 35]\n",
      " [70 86 38 42]\n",
      " [52 70 83 50]]\n"
     ]
    }
   ],
   "source": [
    "print (\"Introduce el número para crear una matriz cuadrada, por favor: \")\n",
    "x = int(input())\n",
    "\n",
    "print(\"La matriz cuadrada del número indicado es:\")\n",
    "matriz_cuadrada(x)"
   ]
  },
  {
   "cell_type": "markdown",
   "id": "5c2886ed",
   "metadata": {},
   "source": [
    "## Ejercicio 3"
   ]
  },
  {
   "cell_type": "markdown",
   "id": "24f849b7",
   "metadata": {},
   "source": [
    "Crea una función que dada una tabla de dos dimensiones (NxM), te calcule los totales por fila y los totales por columna."
   ]
  },
  {
   "cell_type": "code",
   "execution_count": 70,
   "id": "b8bb60e9",
   "metadata": {},
   "outputs": [],
   "source": [
    "def crea_matriz(n,m):\n",
    "    z = random.randint(50, size=(n, m))\n",
    "    return z"
   ]
  },
  {
   "cell_type": "code",
   "execution_count": 71,
   "id": "e5a9a6dc",
   "metadata": {},
   "outputs": [],
   "source": [
    "def total_columnas(n,m):\n",
    "    Sum_Columnas = np.sum(crea_matriz(n,m), axis=0)\n",
    "    mensaje = f\"Los totales de las columnas son {Sum_Columnas}\" \n",
    "    return mensaje"
   ]
  },
  {
   "cell_type": "code",
   "execution_count": 72,
   "id": "a01b2778",
   "metadata": {},
   "outputs": [],
   "source": [
    "def total_filas(n,m):\n",
    "    Sum_filas = np.sum(crea_matriz(n,m), axis=1)\n",
    "    mensaje = f\"Los totales de las filas son {Sum_filas}\" \n",
    "    return mensaje"
   ]
  },
  {
   "cell_type": "code",
   "execution_count": 74,
   "id": "c0d88543",
   "metadata": {},
   "outputs": [
    {
     "name": "stdout",
     "output_type": "stream",
     "text": [
      "Introduce un número (n) para crear una matriz, por favor: \n",
      "4\n",
      "Introduce un número (m) para crear una matriz, por favor: \n",
      "3\n",
      "[[25 42 25]\n",
      " [12 36 15]\n",
      " [ 0 46 26]\n",
      " [11 24 15]]\n",
      "Los totales de las columnas son [109 130 133]\n",
      "Los totales de las filas son [53 39 79 44]\n"
     ]
    }
   ],
   "source": [
    "print (\"Introduce un número (n) para crear una matriz, por favor: \")\n",
    "n = int(input())\n",
    "print (\"Introduce un número (m) para crear una matriz, por favor: \")\n",
    "m = int(input())\n",
    "\n",
    "print (crea_matriz(n,m))\n",
    "print (total_columnas(n,m))\n",
    "print (total_filas(n,m))"
   ]
  },
  {
   "cell_type": "markdown",
   "id": "f442b26e",
   "metadata": {},
   "source": [
    "## Ejercicio 4"
   ]
  },
  {
   "cell_type": "markdown",
   "id": "58374ebb",
   "metadata": {},
   "source": [
    "Implementa manualmente una función que calcule el coeficiente de correlación. Infórmate sobre sus usos e interpretación. La formula a implementar seria la siguiente:"
   ]
  },
  {
   "attachments": {
    "coef_corr1.png": {
     "image/png": "[encoded data removed]"
    }
   },
   "cell_type": "markdown",
   "id": "8a145fe3",
   "metadata": {},
   "source": [
    "![coef_corr1.png](attachment:coef_corr1.png)"
   ]
  },
  {
   "cell_type": "code",
   "execution_count": 75,
   "id": "dc735cd3",
   "metadata": {},
   "outputs": [],
   "source": [
    "def calculo_coef_corr (var1,var2):\n",
    "    if (len(var1) != len(var2)) & (var1.ndim & var2.ndim > 1):\n",
    "        print('Los vectores deben tener la misma dimensión y ser de una dimensión')\n",
    "    else: \n",
    "    #calcula la media de los dos array unidimensionales\n",
    "        media_var1 = np.mean (var1)\n",
    "        media_var2= np.mean (var2)\n",
    "    \n",
    "    #Calcula la diferencia de cada dato puntual respecto a su media, creando nuevos arrays\n",
    "        var1_i = np.subtract (var1, media_var1)\n",
    "        var2_i = np.subtract (var2,media_var2)\n",
    "    \n",
    "    #Calcula el producto entre las dos array, punto a punto, generando una nueva array\n",
    "        prod_var1i_var2i = np.multiply (var1_i ,  var2_i)\n",
    "    \n",
    "    #Calcula la suma total.\n",
    "        suma_total = np.sum (prod_var1i_var2i)\n",
    "    \n",
    "    #Calcula la desviacion estandar de cada array\n",
    "        desv_std_var1 = np.std (var1)\n",
    "        desv_std_var2 = np.std (var2)\n",
    "    \n",
    "    #Calculo del coeficiente de correlación\n",
    "        coef_corr = (suma_total/len(prod_var1i_var2i)) / (desv_std_var1*desv_std_var2)\n",
    "\n",
    "    return coef_corr"
   ]
  },
  {
   "cell_type": "code",
   "execution_count": 76,
   "id": "439ff6d4",
   "metadata": {},
   "outputs": [
    {
     "name": "stdout",
     "output_type": "stream",
     "text": [
      "El coeficiente de correlacion es 0.85115354994936\n"
     ]
    }
   ],
   "source": [
    "var1 = np.array([1.25, 1.28, 1.27, 1.21, 1.22])\n",
    "var2 = np.array([32, 33, 34, 30, 32])\n",
    "\n",
    "print(f\"El coeficiente de correlacion es {calculo_coef_corr (var1,var2)}\")"
   ]
  },
  {
   "cell_type": "code",
   "execution_count": 77,
   "id": "9eeabeeb",
   "metadata": {},
   "outputs": [],
   "source": [
    "def mean_vector(var): #calcula la media de array unidimensionales\n",
    "    sum = 0\n",
    "    for x in  var:\n",
    "        sum = sum + x\n",
    "    mean = sum/len(var)\n",
    "    return mean"
   ]
  },
  {
   "cell_type": "code",
   "execution_count": 78,
   "id": "b43639db",
   "metadata": {},
   "outputs": [],
   "source": [
    "def substract_vector (var): #Calcula la diferencia de cada dato puntual respecto a su media, creando un nuevos array o vector\n",
    "    subst_i = np.subtract (var, mean_vector(var))\n",
    "    return subst_i"
   ]
  },
  {
   "cell_type": "code",
   "execution_count": 79,
   "id": "a1254046",
   "metadata": {},
   "outputs": [],
   "source": [
    "def prod_2vectores (var1,var2): #Calcula el producto entre las dos array, punto a punto, generando una nueva array\n",
    "    prod_i = np.multiply (substract_vector (var1) ,  substract_vector (var2))\n",
    "    return prod_i"
   ]
  },
  {
   "cell_type": "code",
   "execution_count": 80,
   "id": "e29039d7",
   "metadata": {},
   "outputs": [],
   "source": [
    "def sum_sqr_vector(var): #Calcula la suma cuadrada de la diferencia entre cada elemento del vector y la media\n",
    "    sqr = 0\n",
    "    diff = substract_vector (var)\n",
    "    for i in diff:\n",
    "        sqr = sqr + i**2\n",
    "    return sqr"
   ]
  },
  {
   "cell_type": "code",
   "execution_count": 81,
   "id": "bc0e4a30",
   "metadata": {},
   "outputs": [],
   "source": [
    "import math\n",
    "\n",
    "def calculo_coef_corr2 (var1,var2):\n",
    "    if (len(var1) != len(var2)) & (var1.ndim & var2.ndim > 1):\n",
    "        print('Los vectores deben tener la misma dimensión y ser de una dimensión')\n",
    "    else:  #Calculo del coeficiente de correlación\n",
    "        prod_sqr = np.multiply (sum_sqr_vector (var1) ,  sum_sqr_vector (var2))\n",
    "        coef_corr = np.sum (prod_2vectores (var1,var2)) / (math.sqrt(prod_sqr))\n",
    "    return coef_corr"
   ]
  },
  {
   "cell_type": "code",
   "execution_count": 82,
   "id": "90dfb9c5",
   "metadata": {},
   "outputs": [
    {
     "name": "stdout",
     "output_type": "stream",
     "text": [
      "El coeficiente de correlacion es 0.8511535499493601\n"
     ]
    }
   ],
   "source": [
    "var1 = np.array([1.25, 1.28, 1.27, 1.21, 1.22])\n",
    "var2 = np.array([32, 33, 34, 30, 32])\n",
    "\n",
    "print (f\"El coeficiente de correlacion es {calculo_coef_corr2 (var1,var2)}\")"
   ]
  },
  {
   "cell_type": "code",
   "execution_count": 83,
   "id": "3f4f1c59",
   "metadata": {},
   "outputs": [
    {
     "data": {
      "text/plain": [
       "array([[1.        , 0.85115355],\n",
       "       [0.85115355, 1.        ]])"
      ]
     },
     "execution_count": 83,
     "metadata": {},
     "output_type": "execute_result"
    }
   ],
   "source": [
    "coeficente = np.corrcoef(var1, var2)\n",
    "coeficente"
   ]
  }
 ],
 "metadata": {
  "kernelspec": {
   "display_name": "Python 3 (ipykernel)",
   "language": "python",
   "name": "python3"
  },
  "language_info": {
   "codemirror_mode": {
    "name": "ipython",
    "version": 3
   },
   "file_extension": ".py",
   "mimetype": "text/x-python",
   "name": "python",
   "nbconvert_exporter": "python",
   "pygments_lexer": "ipython3",
   "version": "3.9.12"
  },
  "toc": {
   "base_numbering": 1,
   "nav_menu": {},
   "number_sections": true,
   "sideBar": true,
   "skip_h1_title": false,
   "title_cell": "Table of Contents",
   "title_sidebar": "Contents",
   "toc_cell": false,
   "toc_position": {},
   "toc_section_display": true,
   "toc_window_display": false
  },
  "varInspector": {
   "cols": {
    "lenName": 16,
    "lenType": 16,
    "lenVar": 40
   },
   "kernels_config": {
    "python": {
     "delete_cmd_postfix": "",
     "delete_cmd_prefix": "del ",
     "library": "var_list.py",
     "varRefreshCmd": "print(var_dic_list())"
    },
    "r": {
     "delete_cmd_postfix": ") ",
     "delete_cmd_prefix": "rm(",
     "library": "var_list.r",
     "varRefreshCmd": "cat(var_dic_list()) "
    }
   },
   "types_to_exclude": [
    "module",
    "function",
    "builtin_function_or_method",
    "instance",
    "_Feature"
   ],
   "window_display": false
  }
 },
 "nbformat": 4,
 "nbformat_minor": 5
}
